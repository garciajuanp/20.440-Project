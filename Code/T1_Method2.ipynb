{
 "cells": [
  {
   "cell_type": "markdown",
   "metadata": {},
   "source": [
    " ![CellphoneDB Logo](https://www.cellphonedb.org/images/cellphonedb_logo_33.png) | CellphoneDB is a publicly available repository of curated receptors, ligands and their interactions."
   ]
  },
  {
   "cell_type": "code",
   "execution_count": null,
   "metadata": {},
   "outputs": [],
   "source": [
    "import pandas as pd\n",
    "import sys\n",
    "import os"
   ]
  },
  {
   "attachments": {},
   "cell_type": "markdown",
   "metadata": {},
   "source": [
    "Checking that environment contains a Python >= 3.8 as required by CellphoneDB."
   ]
  },
  {
   "cell_type": "code",
   "execution_count": null,
   "metadata": {},
   "outputs": [],
   "source": [
    "print(sys.version)"
   ]
  },
  {
   "cell_type": "markdown",
   "metadata": {},
   "source": [
    "___\n",
    "### Input files\n",
    "The statistial method accepts 5 input files (3 mandatory).\n",
    "- **cpdb_file_path**: (mandatory) path to the database `cellphonedb.zip`.\n",
    "- **meta_file_path**: (mandatory) path to the meta file linking cell barcodes to cluster labels `metadata.tsv`.\n",
    "- **counts_file_path**: (mandatory) paths to normalized counts file (not z-transformed), either in text format or h5ad (recommended) `normalised_log_counts.h5ad`.\n",
    "- **microenvs_file_path** (optional) path to microenvironment file that groups cell clusters by microenvironments. When providing a microenvironment file, CellphoneDB will restrict the interactions to those cells within a microenvironment.\n",
    "- **active_tf_path**: (optional) to the active transcription factors.\n",
    "\n",
    "The `microenvs_file_path` content will depend on the biological question that the researcher wants to answer.\n",
    "\n",
    "> In this **example** we are studying how cell-cell interactions change between a subset of immune cells and trophoblast cells as the trophoblast differentiate and invade the maternal uterus. This module will randomly permute the cluster labels of all cells whitin each microenvironement (`microenvs_file_path`), 1,000 times (default), to test whether the mean average receptor expression level in a cluster and the average ligand expression level between the interacting clusters is higher than those of the rest cell pairs. This procedure generates a P-value for the likelihood of cell-type specificity of a given receptor–ligand complex."
   ]
  },
  {
   "cell_type": "code",
   "execution_count": null,
   "metadata": {},
   "outputs": [],
   "source": [
    "cpdb_file_path = r\"C:\\Users\\juanp\\Desktop\\cpdb_dbv2\\v5.0.0\\cellphonedb.zip\"\n",
    "meta_file_path = r\"C:\\Users\\juanp\\Desktop\\CellphoneDB_CM_Other\\CMEC_meta.tsv\"\n",
    "counts_file_path = r\"C:\\Users\\juanp\\Desktop\\CellphoneDB_CM_Other\\CMEC_counts.h5ad\"\n",
    "#microenvs_file_path = 'data/microenvironment.tsv'\n",
    "out_path = r\"C:\\Users\\juanp\\Desktop\\CellphoneDB_Results_CM_Other\\CMEC\"\n",
    "#active_tf_path = 'data/active_TFs.tsv'\n",
    "#out_path = 'results/method2_withScore'"
   ]
  },
  {
   "cell_type": "markdown",
   "metadata": {},
   "source": [
    "### Inspect input files"
   ]
  },
  {
   "cell_type": "markdown",
   "metadata": {},
   "source": [
    "<span style=\"color:green\">**1)**</span> The **metadata** file is compossed of two columns:\n",
    "- **barcode_sample**: this column indicates the barcode of each cell in the experiment.\n",
    "- **cell_type**: this column denotes the cell label assigned."
   ]
  },
  {
   "cell_type": "code",
   "execution_count": null,
   "metadata": {},
   "outputs": [],
   "source": [
    "metadata = pd.read_csv(meta_file_path, sep = '\\t')\n",
    "metadata.head(3)"
   ]
  },
  {
   "cell_type": "code",
   "execution_count": null,
   "metadata": {},
   "outputs": [],
   "source": [
    "import anndata\n",
    "\n",
    "adata = anndata.read_h5ad(counts_file_path)\n",
    "adata.shape"
   ]
  },
  {
   "cell_type": "markdown",
   "metadata": {},
   "source": [
    "<span style=\"color:green\">**2)**</span>  The **counts** files is a scanpy h5ad object. The dimensions and order of this object must coincide with the dimensions of the metadata file (i.e. must have the same number of cells in both files)."
   ]
  },
  {
   "cell_type": "markdown",
   "metadata": {},
   "source": [
    "Check barcodes in metadata and counts are the same."
   ]
  },
  {
   "cell_type": "code",
   "execution_count": null,
   "metadata": {},
   "outputs": [],
   "source": [
    "list(adata.obs.index).sort() == list(metadata['barcode']).sort()"
   ]
  },
  {
   "attachments": {},
   "cell_type": "markdown",
   "metadata": {},
   "source": [
    "<span style=\"color:green\">**3)**</span> **Micronevironments** defines the cell types that belong to a a given microenvironment. CellphoneDB will only calculate interactions between cells that belong to a given microenvironment. In this file we are defining just one microenvionment."
   ]
  },
  {
   "cell_type": "code",
   "execution_count": null,
   "metadata": {},
   "outputs": [],
   "source": [
    "#microenv = pd.read_csv(microenvs_file_path,\n",
    "                       #sep = '\\t')\n",
    "#microenv.head(3)"
   ]
  },
  {
   "cell_type": "markdown",
   "metadata": {},
   "source": [
    "Displaying cells grouped per microenvironment"
   ]
  },
  {
   "cell_type": "code",
   "execution_count": null,
   "metadata": {},
   "outputs": [],
   "source": [
    "#microenv.groupby('microenvironment', group_keys = False)['cell_type'].apply(lambda x : list(x.value_counts().index))"
   ]
  },
  {
   "cell_type": "markdown",
   "metadata": {},
   "source": [
    "<span style=\"color:green\">**4)**</span> **Active transcription factors** defines trancription factors active in a given cell type."
   ]
  },
  {
   "cell_type": "code",
   "execution_count": null,
   "metadata": {},
   "outputs": [],
   "source": [
    "#pd.read_csv(active_tf_path, sep = '\\t') \\\n",
    " #   .head(3)"
   ]
  },
  {
   "cell_type": "markdown",
   "metadata": {},
   "source": [
    "____\n",
    "### Run statistical analysis\n",
    "The output of this method will be saved in `output_path` and also returned to the predefined variables.\n",
    "\n",
    "> The statisical method allows the user to downsample the data with the aim of speeding up the results (subsampling arguments). To this end, CellphoneDB employs a geometric sketching procedure (Hie *et al.* 2019) to preserve the structure of the data without losing information from lowly represented cells. For this tutorial, we have opted to manually downsample the count matrix and the metadata file accordingly."
   ]
  },
  {
   "cell_type": "code",
   "execution_count": null,
   "metadata": {},
   "outputs": [],
   "source": [
    "from cellphonedb.src.core.methods import cpdb_statistical_analysis_method\n",
    "\n",
    "cpdb_results = cpdb_statistical_analysis_method.call(\n",
    "    cpdb_file_path = cpdb_file_path,                 # mandatory: CellphoneDB database zip file.\n",
    "    meta_file_path = meta_file_path,                 # mandatory: tsv file defining barcodes to cell label.\n",
    "    counts_file_path = counts_file_path,             # mandatory: normalized count matrix - a path to the counts file, or an in-memory AnnData object\n",
    "    counts_data = 'hgnc_symbol',                     # defines the gene annotation in counts matrix.\n",
    "   # active_tfs_file_path = active_tf_path,           # optional: defines cell types and their active TFs.\n",
    "    #microenvs_file_path = microenvs_file_path,       # optional (default: None): defines cells per microenvironment.\n",
    "    score_interactions = True,                       # optional: whether to score interactions or not. \n",
    "    iterations = 1000,                               # denotes the number of shufflings performed in the analysis.\n",
    "    threshold = 0.1,                                 # defines the min % of cells expressing a gene for this to be employed in the analysis.\n",
    "    threads = 5,                                     # number of threads to use in the analysis.\n",
    "    debug_seed = 42,                                 # debug randome seed. To disable >=0.\n",
    "    result_precision = 3,                            # Sets the rounding for the mean values in significan_means.\n",
    "    pvalue = 0.05,                                   # P-value threshold to employ for significance.\n",
    "    subsampling = False,                             # To enable subsampling the data (geometri sketching).\n",
    "    subsampling_log = False,                         # (mandatory) enable subsampling log1p for non log-transformed data inputs.\n",
    "    subsampling_num_pc = 100,                        # Number of componets to subsample via geometric skectching (dafault: 100).\n",
    "    subsampling_num_cells = 1000,                    # Number of cells to subsample (integer) (default: 1/3 of the dataset).\n",
    "    separator = '|',                                 # Sets the string to employ to separate cells in the results dataframes \"cellA|CellB\".\n",
    "    debug = False,                                   # Saves all intermediate tables employed during the analysis in pkl format.\n",
    "    output_path = out_path,                          # Path to save results.\n",
    "    output_suffix = None                             # Replaces the timestamp in the output files by a user defined string in the  (default: None).\n",
    "    )"
   ]
  },
  {
   "cell_type": "markdown",
   "metadata": {},
   "source": [
    "Results are save into the predefined file and as a dictionary in the `cpdb_results` variable."
   ]
  },
  {
   "cell_type": "code",
   "execution_count": null,
   "metadata": {},
   "outputs": [],
   "source": [
    "list(cpdb_results.keys())"
   ]
  },
  {
   "cell_type": "markdown",
   "metadata": {},
   "source": [
    "___\n",
    "### Description of output files\n",
    "Most output files share common columns:\n",
    "- **id_cp_interaction**: Unique CellphoneDB identifier for each interaction stored in the database.\n",
    "- **interacting_pair**: Name of the interacting pairs separated by “|”.\n",
    "- **partner A or B**: Identifier for the first interacting partner (A) or the second (B). It could be: UniProt (prefix simple:) or complex (prefix complex:)\n",
    "- **gene A or B**: Gene identifier for the first interacting partner (A) or the second (B). The identifier will depend on the input user list.\n",
    "- **secreted**: True if one of the partners is secreted.\n",
    "- **Receptor A or B**: True if the first interacting partner (A) or the second (B) is annotated as a receptor in our database.\n",
    "- **annotation_strategy**: Curated if the interaction was annotated by the CellphoneDB developers. Otherwise, the name of the database where the interaction has been downloaded from.\n",
    "- **is_integrin**: True if one of the partners is integrin.\n",
    "- **directionality**: Indiicates the directionality of the interaction and the charactersitics of the interactors.\n",
    "- **classification**: Pathway classification for the interacting partners."
   ]
  },
  {
   "cell_type": "markdown",
   "metadata": {},
   "source": [
    "**Pvalues** fields:\n",
    "- **cell_a|cell_b**: The p-value resulting from the statistical analysis."
   ]
  },
  {
   "cell_type": "code",
   "execution_count": null,
   "metadata": {},
   "outputs": [],
   "source": [
    "cpdb_results['pvalues'].head(20)"
   ]
  },
  {
   "cell_type": "markdown",
   "metadata": {},
   "source": [
    "**Means** fields:\n",
    "\n",
    "- **means**: Mean values for all the interacting partners: mean value refers to the total mean of the individual partner average expression values in the corresponding interacting pairs of cell types. If one of the mean values is 0, then the total mean is set to 0."
   ]
  },
  {
   "cell_type": "code",
   "execution_count": null,
   "metadata": {},
   "outputs": [],
   "source": [
    "cpdb_results['means'].head(2)"
   ]
  },
  {
   "cell_type": "markdown",
   "metadata": {},
   "source": [
    "**Significant means** fields:\n",
    "- **significant_mean**: Significant mean calculation for all the interacting partners. If the interaction has been found relevant, the value will be the mean. Alternatively, the value is absent."
   ]
  },
  {
   "cell_type": "code",
   "execution_count": null,
   "metadata": {},
   "outputs": [],
   "source": [
    "cpdb_results['significant_means'].head(2)"
   ]
  },
  {
   "cell_type": "markdown",
   "metadata": {},
   "source": [
    "**Interaction scores** fields:\n",
    "- **scores**: scores ranging from 0 to 100. The higher the score is,  the more specific the interaction is expected to be."
   ]
  },
  {
   "cell_type": "code",
   "execution_count": null,
   "metadata": {},
   "outputs": [],
   "source": [
    "cpdb_results['interaction_scores'].head(2)"
   ]
  },
  {
   "cell_type": "markdown",
   "metadata": {},
   "source": [
    "**CellSign** fields:\n",
    "- **interacting_pair**: Name of the interacting pairs.\n",
    "- **partner A or B**: Identifier for the first interacting partner (A) or the second (B). It could be: UniProt (prefix simple:) or complex (prefix complex:)\n",
    "- **gene A or B**: Gene identifier for the first interacting partner (A) or the second (B). The identifier will depend on the input user list.\n",
    "- **Receptor A or B**: True if the first interacting partner (A) or the second (B) is annotated as a receptor in our database.\n",
    "- **TF relationship**: a 1 denotes that the TF downstream the receptor is active."
   ]
  },
  {
   "cell_type": "code",
   "execution_count": null,
   "metadata": {},
   "outputs": [],
   "source": [
    "#cpdb_results['CellSign_active_interactions'].head(2)"
   ]
  },
  {
   "cell_type": "markdown",
   "metadata": {},
   "source": [
    "**Deconvoluted** fields:\n",
    "- **gene_name**: Gene identifier for one of the subunits that are participating in the interaction defined in “means.csv” file. The identifier will depend on the input of the user list.\n",
    "- **uniprot**: UniProt identifier for one of the subunits that are participating in the interaction defined in “means.csv” file.\n",
    "- **is_complex**: True if the subunit is part of a complex. Single if it is not, complex if it is.\n",
    "- **protein_name**: Protein name for one of the subunits that are participating in the interaction defined in “means.csv” file.\n",
    "- **complex_name**: Complex name if the subunit is part of a complex. Empty if not.\n",
    "- **mean**: Mean expression of the corresponding gene in each cluster."
   ]
  },
  {
   "cell_type": "code",
   "execution_count": null,
   "metadata": {},
   "outputs": [],
   "source": [
    "cpdb_results['deconvoluted'].head(2)"
   ]
  },
  {
   "cell_type": "markdown",
   "metadata": {},
   "source": [
    "### Explore CellphoneDB results\n",
    "This module allows to filter CellphoneDB results by specifying: cell types pairs, genes or specific interactions. \\\n",
    "\n",
    "We can specify two list of cell types (`query_cell_type_1`and `query_cell_type_2`), the method will perform a pairwise comparison between the cell types defined in each list and will subset the interactions to those pairs of cells. Cell types within each list will not be paired. If we are interested in filtering interactions ocurring between a given cell to all the rest of cells in the dataset we can define `query_cell_type_1 = 'All'` and `query_cell_type_2 = ['cellA', 'cellB', ...]`. The argument `genes` allows the user to filter interactions in which a gene participates, the users can also define specific interactions based on the interaction name `query_interactions`.\n",
    "\n",
    "> In **this example** we are going to filter interactions in which a subset of trophoblast interact with the PV cells, furthermore, we will select those interactions in which the gene TGFBR1 participates and a specific interaction named CSF1_CSF1R.\n",
    "\n",
    "This method filters the rows and columns of the significant_means file; NaN value correspond to interacting pairs found not significant, non-NaN value correspond to those interacting pairs found relevant."
   ]
  },
  {
   "cell_type": "code",
   "execution_count": null,
   "metadata": {},
   "outputs": [],
   "source": [
    "celltype_a = \"Cardiomyocyte\"\n",
    "celltype_b = \"Endothelial Cell\"\n",
    "pair = f\"{celltype_a}|{celltype_b}\"\n"
   ]
  },
  {
   "cell_type": "code",
   "execution_count": null,
   "metadata": {},
   "outputs": [],
   "source": [
    "sig_means = cpdb_results['significant_means'].copy()\n",
    "\n",
    "# Keep only those interactions where the value is not NaN for our pair\n",
    "sig_pairs = sig_means.loc[sig_means[pair].notna(), [\n",
    "    \"interacting_pair\", \"gene_a\", \"gene_b\", \"classification\", pair\n",
    "]]\n",
    "\n",
    "# Sort by mean expression\n",
    "sig_pairs = sig_pairs.sort_values(by=pair, ascending=False)\n"
   ]
  },
  {
   "cell_type": "code",
   "execution_count": null,
   "metadata": {},
   "outputs": [],
   "source": [
    "sig_pairs.head(10)"
   ]
  },
  {
   "cell_type": "code",
   "execution_count": null,
   "metadata": {},
   "outputs": [],
   "source": [
    "from cellphonedb.utils import search_utils\n",
    "\n",
    "search_results = search_utils.search_analysis_results(\n",
    "    query_cell_types_1 = ['All'],  # List of cells 1, will be paired to cells 2 (list or 'All').\n",
    "    query_cell_types_2 = ['Cardiomyocyte'],     # List of cells 2, will be paired to cells 1 (list or 'All').\n",
    "    query_genes = [ \"VEGFB\" ],                                       # filter interactions based on the genes participating (list).\n",
    "    #query_interactions = ['CSF1_CSF1R'],                            # filter intereactions based on their name (list).\n",
    "    significant_means = cpdb_results['significant_means'],          # significant_means file generated by CellphoneDB.\n",
    "    deconvoluted = cpdb_results['deconvoluted'],                    # devonvoluted file generated by CellphoneDB.\n",
    "    interaction_scores = cpdb_results['interaction_scores'],        # interaction score generated by CellphoneDB.\n",
    "    query_minimum_score = 50,                                       # minimum score that an interaction must have to be filtered.\n",
    "    separator = '|',                                                # separator (default: |) employed to split cells (cellA|cellB).\n",
    "    long_format = True,                                             # converts the output into a wide table, removing non-significant interactions\n",
    "    query_classifications = ['Signaling by Transforming growth factor']\n",
    ")\n",
    "\n",
    "search_results.head()"
   ]
  },
  {
   "cell_type": "markdown",
   "metadata": {},
   "source": [
    "### Basic analysis and plotting\n",
    "In this section of the tutorial we will make use of Kelvin's implementations ([kt-plots tutorial](https://ktplotspy.readthedocs.io/en/latest/index.html)) to perform some exploratory analysis of the results obtained from CellphoneDB. It is of great importance that the user is familiarized with the biological context of the data to obtain meaninful results from CellphoneDB results. "
   ]
  },
  {
   "cell_type": "code",
   "execution_count": null,
   "metadata": {},
   "outputs": [],
   "source": [
    "import os\n",
    "import anndata as ad\n",
    "import pandas as pd\n",
    "import ktplotspy as kpy\n",
    "import matplotlib.pyplot as plt\n",
    "%matplotlib inline"
   ]
  },
  {
   "cell_type": "markdown",
   "metadata": {},
   "source": [
    "Display as heatmap the number of significant interactions found by CellphoneDB between all of the cell pairs. Only cells found in the microenvironment will be represented in this plot."
   ]
  },
  {
   "cell_type": "code",
   "execution_count": null,
   "metadata": {},
   "outputs": [],
   "source": [
    "kpy.plot_cpdb_heatmap(pvals = cpdb_results['pvalues'],\n",
    "                      degs_analysis = False,\n",
    "                      figsize = (5, 5),\n",
    "                      title = \"Sum of significant interactions\")"
   ]
  },
  {
   "cell_type": "markdown",
   "metadata": {},
   "source": [
    "Here we are plotting the interactions between the PVs and the trophoblasts that are mediated by TGFB2 and CSF1R."
   ]
  },
  {
   "cell_type": "code",
   "execution_count": null,
   "metadata": {},
   "outputs": [],
   "source": [
    "kpy.plot_cpdb(\n",
    "    adata = adata,\n",
    "    cell_type1 = \"PV MYH11|PV STEAP4|PV MMPP11\",\n",
    "    cell_type2 = \"EVT_1|EVT_2|GC|iEVT|eEVT|VCT_CCC\",\n",
    "    means = cpdb_results['means'],\n",
    "    pvals = cpdb_results['pvalues'],\n",
    "    celltype_key = \"cell_labels\",\n",
    "    genes = [\"TGFB2\", \"CSF1R\"],\n",
    "    figsize = (10, 3),\n",
    "    title = \"Interactions between\\nPV and trophoblast\",\n",
    "    max_size = 3,\n",
    "    highlight_size = 0.75,\n",
    "    degs_analysis = False,\n",
    "    standard_scale = True,\n",
    "    interaction_scores = cpdb_results['interaction_scores'],\n",
    "    scale_alpha_by_interaction_scores = True\n",
    ")"
   ]
  },
  {
   "cell_type": "markdown",
   "metadata": {},
   "source": [
    "Interactions can also be plotted grouped by pathway."
   ]
  },
  {
   "cell_type": "code",
   "execution_count": null,
   "metadata": {},
   "outputs": [],
   "source": [
    "from plotnine import facet_wrap\n",
    "\n",
    "p = kpy.plot_cpdb(\n",
    "    adata = adata,\n",
    "    cell_type1 = \"PV MYH11\",\n",
    "    cell_type2 = \"EVT_1|EVT_2|GC|iEVT|eEVT|VCT_CCC\",\n",
    "    means = cpdb_results['means'],\n",
    "    pvals = cpdb_results['pvalues'],\n",
    "    celltype_key = \"cell_labels\",\n",
    "    genes = [\"TGFB2\", \"CSF1R\", \"COL1A1\"],\n",
    "    figsize = (12, 8),\n",
    "    title = \"Interactions between PV and trophoblast\\ns grouped by classification\",\n",
    "    max_size = 6,\n",
    "    highlight_size = 0.75,\n",
    "    degs_analysis = False,\n",
    "    standard_scale = True,\n",
    ")\n",
    "p + facet_wrap(\"~ classification\", ncol = 1)"
   ]
  },
  {
   "cell_type": "code",
   "execution_count": null,
   "metadata": {},
   "outputs": [],
   "source": []
  }
 ],
 "metadata": {
  "kernelspec": {
   "display_name": "cpdb",
   "language": "python",
   "name": "cpdb"
  },
  "language_info": {
   "codemirror_mode": {
    "name": "ipython",
    "version": 3
   },
   "file_extension": ".py",
   "mimetype": "text/x-python",
   "name": "python",
   "nbconvert_exporter": "python",
   "pygments_lexer": "ipython3",
   "version": "3.11.11"
  }
 },
 "nbformat": 4,
 "nbformat_minor": 4
}
