{
 "cells": [
  {
   "cell_type": "code",
   "execution_count": null,
   "id": "0",
   "metadata": {},
   "outputs": [],
   "source": [
    "import anndata as ad\n",
    "import pandas as pd\n",
    "import ktplotspy as kpy\n",
    "import matplotlib.pyplot as plt\n",
    "import os"
   ]
  },
  {
   "cell_type": "code",
   "execution_count": null,
   "id": "1",
   "metadata": {},
   "outputs": [],
   "source": [
    "# Load CellphoneDB results\n",
    "adata_CM = ad.read_h5ad(r\"C:\\Users\\juanp\\Desktop\\CellphoneDB_CM_Other\\CM_counts.h5ad\")\n",
    "means_CM = pd.read_csv(r\"C:\\Users\\juanp\\Desktop\\CellphoneDB_Results_CM_Other\\CM\\statistical_analysis_means_04_07_2025_191005.txt\", sep=\"\\t\")\n",
    "pvals_CM = pd.read_csv(r\"C:\\Users\\juanp\\Desktop\\CellphoneDB_Results_CM_Other\\CM\\statistical_analysis_pvalues_04_07_2025_191005.txt\", sep=\"\\t\")\n",
    "decon_CM = pd.read_csv(r\"C:\\Users\\juanp\\Desktop\\CellphoneDB_Results_CM_Other\\CM\\statistical_analysis_deconvoluted_04_07_2025_191005.txt\", sep=\"\\t\")\n",
    "interaction_scores_CM = pd.read_csv(r\"C:\\Users\\juanp\\Desktop\\CellphoneDB_Results_CM_Other\\CM\\statistical_analysis_interaction_scores_04_07_2025_191005.txt\", sep=\"\\t\")\n",
    "significant_means_CM = pd.read_csv(r\"C:\\Users\\juanp\\Desktop\\CellphoneDB_Results_CM_Other\\CM\\statistical_analysis_significant_means_04_07_2025_191005.txt\", sep=\"\\t\")\n",
    "\n",
    "adata_CMEC = ad.read_h5ad(r\"C:\\Users\\juanp\\Desktop\\CellphoneDB_CM_Other\\CMEC_counts.h5ad\")\n",
    "means_CMEC = pd.read_csv(r\"C:\\Users\\juanp\\Desktop\\CellphoneDB_Results_CM_Other\\CMEC\\statistical_analysis_means_04_07_2025_191441.txt\", sep=\"\\t\")\n",
    "pvals_CMEC = pd.read_csv(r\"C:\\Users\\juanp\\Desktop\\CellphoneDB_Results_CM_Other\\CMEC\\statistical_analysis_pvalues_04_07_2025_191441.txt\", sep=\"\\t\")\n",
    "decon_CMEC = pd.read_csv(r\"C:\\Users\\juanp\\Desktop\\CellphoneDB_Results_CM_Other\\CMEC\\statistical_analysis_deconvoluted_04_07_2025_191441.txt\", sep=\"\\t\")\n",
    "interaction_scores_CMEC = pd.read_csv(r\"C:\\Users\\juanp\\Desktop\\CellphoneDB_Results_CM_Other\\CMEC\\statistical_analysis_interaction_scores_04_07_2025_191441.txt\", sep=\"\\t\")\n",
    "significant_means_CMEC = pd.read_csv(r\"C:\\Users\\juanp\\Desktop\\CellphoneDB_Results_CM_Other\\CMEC\\statistical_analysis_significant_means_04_07_2025_191441.txt\", sep=\"\\t\")\n",
    "\n",
    "output_dir = r\"C:\\Users\\juanp\\Desktop\\CellphoneDB visualization CM Other\"\n",
    "os.makedirs(output_dir, exist_ok=True)"
   ]
  },
  {
   "cell_type": "markdown",
   "id": "2",
   "metadata": {},
   "source": [
    "### Counting how many interactions happened in each condition\n",
    "The CM condition has almost as many interactions between different cell types as the CMEC condition. But when we look at the significant interactions EC -> CM or CM -> EC it has way less. "
   ]
  },
  {
   "cell_type": "code",
   "execution_count": null,
   "id": "3",
   "metadata": {},
   "outputs": [],
   "source": [
    "# what columns to look at (all columns with |)\n",
    "cols_CMEC = [col for col in significant_means_CMEC.columns if '|' in col]\n",
    "cols_CM = [col for col in significant_means_CM.columns if '|' in col]\n",
    "\n",
    "#Count how many rows have a value\n",
    "count_CMEC = significant_means_CMEC[cols_CMEC].notna().sum().sum()\n",
    "count_CM = significant_means_CM[cols_CM].notna().sum().sum()"
   ]
  },
  {
   "cell_type": "code",
   "execution_count": null,
   "id": "4",
   "metadata": {},
   "outputs": [],
   "source": [
    "print (count_CM)\n",
    "print (count_CMEC)"
   ]
  },
  {
   "cell_type": "code",
   "execution_count": null,
   "id": "5",
   "metadata": {},
   "outputs": [],
   "source": [
    "# Plotting count of significant interactions in ALL cells\n",
    "barplot_path = os.path.join(output_dir, \"all_significant_interactions_barplot.png\")\n",
    "conditions = [\"CM\", \"CM-EC\"]\n",
    "all_interactions = [count_CM, count_CMEC]\n",
    "plt.figure(figsize=(6, 4))\n",
    "plt.bar(conditions, all_interactions, color=['skyblue', 'salmon'])\n",
    "plt.ylabel(\"Significant Interactions Count\")\n",
    "plt.title(\"Significant Interactions (All Cells)\")\n",
    "plt.savefig(barplot_path, dpi=300, bbox_inches=\"tight\")\n",
    "plt.show()"
   ]
  },
  {
   "cell_type": "code",
   "execution_count": null,
   "id": "6",
   "metadata": {},
   "outputs": [],
   "source": [
    "# Count significant interactions in ec -> cm and cm -> ec\n",
    "# what columns to look at\n",
    "other_cm_col = \"Other|Cardiomyocyte\"\n",
    "cm_other_col = \"Cardiomyocyte|Other\"\n",
    "cm_cm_col = \"Cardiomyocyte|Cardiomyocyte\"\n",
    "other_other_col = \"Other|Other\"\n",
    "\n",
    "# Count how many rows have a value\n",
    "\n",
    "other_cm_count_CM = significant_means_CM[other_cm_col].notna().sum()\n",
    "cm_other_count_CM = significant_means_CM[cm_other_col].notna().sum()\n",
    "cm_cm_count_CM = significant_means_CM[cm_cm_col].notna().sum()\n",
    "other_other_count_CM = significant_means_CM[other_other_col].notna().sum()\n",
    "\n",
    "other_cm_count_CMEC = significant_means_CMEC[other_cm_col].notna().sum()\n",
    "cm_other_count_CMEC = significant_means_CMEC[cm_other_col].notna().sum()\n",
    "cm_cm_count_CMEC = significant_means_CMEC[cm_cm_col].notna().sum()\n",
    "other_other_count_CMEC = significant_means_CMEC[other_other_col].notna().sum()\n"
   ]
  },
  {
   "cell_type": "code",
   "execution_count": null,
   "id": "7",
   "metadata": {},
   "outputs": [],
   "source": [
    "print (other_cm_count_CM)\n",
    "print (cm_cm_count_CM)\n",
    "print (cm_other_count_CM)\n",
    "print (other_other_count_CM)\n",
    "\n",
    "print (other_cm_count_CMEC)\n",
    "print (cm_cm_count_CMEC)\n",
    "print (cm_other_count_CMEC)\n",
    "print (other_other_count_CMEC)"
   ]
  },
  {
   "cell_type": "code",
   "execution_count": null,
   "id": "8",
   "metadata": {},
   "outputs": [],
   "source": [
    "# Significant interactions from Endothelial Cell to Cardiomyocyte\n",
    "barplot_path2 = os.path.join(output_dir, \"othertocm_significant_interactions_barplot.png\")\n",
    "other_to_cm = [other_cm_count_CM, other_cm_count_CMEC]\n",
    "plt.figure(figsize=(6, 4))\n",
    "plt.bar(conditions, other_to_cm, color=['skyblue', 'salmon'])\n",
    "plt.ylabel(\"Significant Interactions Count\")\n",
    "plt.title(\"Significant Interactions (Other to CM)\")\n",
    "plt.savefig(barplot_path2, dpi=300, bbox_inches=\"tight\")\n",
    "plt.show()"
   ]
  },
  {
   "cell_type": "code",
   "execution_count": null,
   "id": "9",
   "metadata": {},
   "outputs": [],
   "source": [
    "# Significant interactions from Cardiomyocyte to Endothelial Cell\n",
    "barplot_path3 = os.path.join(output_dir, \"Cmtoother_significant_interactions_barplot.png\")\n",
    "cm_to_other = [cm_other_count_CM, cm_other_count_CMEC]\n",
    "plt.figure(figsize=(6, 4))\n",
    "plt.bar(conditions, cm_to_other, color=['skyblue', 'salmon'])\n",
    "plt.ylabel(\"Significant Interactions Count\")\n",
    "plt.title(\"Significant Interactions (CM to Other)\")\n",
    "plt.savefig(barplot_path3, dpi=300, bbox_inches=\"tight\")\n",
    "plt.show()"
   ]
  },
  {
   "cell_type": "markdown",
   "id": "10",
   "metadata": {},
   "source": [
    "### What are the unique significant interactions between EC and CM in the CMEC?\n",
    "I am looking at the significant means file and comparing the interacting pairs in the CM vs CMEC and seeing what pairs we have in the CMEC that are not in CM. "
   ]
  },
  {
   "cell_type": "code",
   "execution_count": null,
   "id": "11",
   "metadata": {},
   "outputs": [],
   "source": [
    "# Get significant EC → CM interactions in both datasets\n",
    "other_cm_CMEC = significant_means_CMEC[significant_means_CMEC[other_cm_col].notna()]\n",
    "other_cm_CM = significant_means_CM[significant_means_CM[other_cm_col].notna()]"
   ]
  },
  {
   "cell_type": "code",
   "execution_count": null,
   "id": "12",
   "metadata": {},
   "outputs": [],
   "source": [
    "# Get significant CM → EC interactions in both datasets\n",
    "cm_other_CMEC = significant_means_CMEC[significant_means_CMEC[cm_other_col].notna()]\n",
    "cm_other_CM = significant_means_CM[significant_means_CM[cm_other_col].notna()]"
   ]
  },
  {
   "cell_type": "code",
   "execution_count": null,
   "id": "13",
   "metadata": {},
   "outputs": [],
   "source": [
    "# Find shared interacting pairs between CMEC and CM (ec to cm)\n",
    "other_cm_shared_pairs = set(other_cm_CM[\"interacting_pair\"]) & set(other_cm_CMEC[\"interacting_pair\"])"
   ]
  },
  {
   "cell_type": "code",
   "execution_count": null,
   "id": "14",
   "metadata": {},
   "outputs": [],
   "source": [
    "# Find shared interacting pairs between CMEC and CM (cm to ec)\n",
    "cm_other_shared_pairs = set(cm_other_CM[\"interacting_pair\"]) & set(cm_other_CMEC[\"interacting_pair\"])"
   ]
  },
  {
   "cell_type": "code",
   "execution_count": null,
   "id": "15",
   "metadata": {},
   "outputs": [],
   "source": [
    "# Keep only interactions unique to CMEC\n",
    "unique_other_cm_CMEC = other_cm_CMEC[~other_cm_CMEC[\"interacting_pair\"].isin(other_cm_shared_pairs)]"
   ]
  },
  {
   "cell_type": "code",
   "execution_count": null,
   "id": "16",
   "metadata": {},
   "outputs": [],
   "source": [
    "# Keep only interactions unique to CMEC\n",
    "unique_cm_other_CMEC = cm_other_CMEC[~cm_other_CMEC[\"interacting_pair\"].isin(cm_other_shared_pairs)]"
   ]
  },
  {
   "cell_type": "code",
   "execution_count": null,
   "id": "17",
   "metadata": {},
   "outputs": [],
   "source": [
    "# Get top 10 by mean expression\n",
    "top10_unique_other_cm = unique_other_cm_CMEC[[\"interacting_pair\", \"classification\", other_cm_col]]\\\n",
    "    .sort_values(by=other_cm_col, ascending=False).head(10)\n",
    "\n",
    "top10_unique_other_cm"
   ]
  },
  {
   "cell_type": "code",
   "execution_count": null,
   "id": "18",
   "metadata": {},
   "outputs": [],
   "source": [
    "# Get top 10 by mean expression\n",
    "top10_unique_cm_other = unique_cm_other_CMEC[[\"interacting_pair\", \"classification\", cm_other_col]]\\\n",
    "    .sort_values(by=cm_other_col, ascending=False).head(10)\n",
    "\n",
    "top10_unique_cm_other"
   ]
  },
  {
   "cell_type": "markdown",
   "id": "19",
   "metadata": {},
   "source": [
    "### Heatmaps: Plots the significant interactions between the different cells"
   ]
  },
  {
   "cell_type": "code",
   "execution_count": null,
   "id": "20",
   "metadata": {},
   "outputs": [],
   "source": [
    "# Heatmaps for all cells in CM\n",
    "save_path_heatmap1 = os.path.join(output_dir, \"heatmap_CM_all_cells.png\")\n",
    "kpy.plot_cpdb_heatmap(pvals=pvals_CM, figsize=(5, 5), title=\" Significant interactions - CM\")\n",
    "plt.savefig(save_path_heatmap1, dpi=300, bbox_inches=\"tight\")\n",
    "plt.show()"
   ]
  },
  {
   "cell_type": "code",
   "execution_count": null,
   "id": "21",
   "metadata": {},
   "outputs": [],
   "source": [
    "tablita = kpy.plot_cpdb_heatmap(pvals=pvals_CM, figsize=(5, 5), title=\" Significant interactions - CM\", symmetrical=False, return_tables=True)\n",
    "interaction_matrix2 = tablita[\"count_network\"]\n",
    "interaction_matrix2\n"
   ]
  },
  {
   "cell_type": "code",
   "execution_count": null,
   "id": "22",
   "metadata": {},
   "outputs": [],
   "source": [
    "tablita2 = kpy.plot_cpdb_heatmap(pvals=pvals_CMEC, figsize=(5, 5), title=\" Significant interactions - CM\", symmetrical=False, return_tables=True)\n",
    "interaction_matrix3 = tablita2[\"count_network\"]\n",
    "interaction_matrix3\n"
   ]
  },
  {
   "cell_type": "code",
   "execution_count": null,
   "id": "23",
   "metadata": {},
   "outputs": [],
   "source": [
    "kpy.plot_cpdb_heatmap(pvals=pvals_CM, figsize=(5, 5), title=\" Significant interactions - CM\", symmetrical=False)"
   ]
  },
  {
   "cell_type": "code",
   "execution_count": null,
   "id": "24",
   "metadata": {},
   "outputs": [],
   "source": [
    "kpy.plot_cpdb_heatmap(pvals=pvals_CMEC, figsize=(5, 5), title=\" Significant interactions - CM-EC\", symmetrical=False)"
   ]
  },
  {
   "cell_type": "code",
   "execution_count": null,
   "id": "25",
   "metadata": {},
   "outputs": [],
   "source": [
    "# Heatmaps for all cells in CMEC\n",
    "save_path_heatmap2 = os.path.join(output_dir, \"heatmap_CMEC_all_cells.png\")\n",
    "kpy.plot_cpdb_heatmap(pvals=pvals_CMEC, figsize=(5, 5), title=\"Significant interactions - CMEC\")\n",
    "plt.savefig(save_path_heatmap2, dpi=300, bbox_inches=\"tight\")\n",
    "plt.show()"
   ]
  },
  {
   "cell_type": "markdown",
   "id": "26",
   "metadata": {},
   "source": [
    "### Dot plots"
   ]
  },
  {
   "cell_type": "code",
   "execution_count": null,
   "id": "27",
   "metadata": {},
   "outputs": [],
   "source": [
    "p_VEGF = kpy.plot_cpdb(\n",
    "    adata=adata_CMEC,\n",
    "    cell_type1=\"Cardiomyocyte\",\n",
    "    cell_type2=\".\",\n",
    "    means=means_CMEC,\n",
    "    pvals=pvals_CMEC,\n",
    "    celltype_key=\"cell_type\",\n",
    "    genes=[\"VEGF\"],\n",
    "    figsize=(12, 5),\n",
    "    title=\"VEGF related signaling interactions\"\n",
    ")\n",
    "dot_path1 = r\"C:\\Users\\juanp\\Desktop\\CellphoneDB visualization CM Other\\vegf_dotplot_CMEC.png\"\n",
    "p_VEGF.save (dot_path1, dpi = 300)\n",
    "p_VEGF"
   ]
  },
  {
   "cell_type": "code",
   "execution_count": null,
   "id": "28",
   "metadata": {},
   "outputs": [],
   "source": [
    "p_NRG = kpy.plot_cpdb(\n",
    "    adata=adata_CMEC,\n",
    "    cell_type1=\"Cardiomyocyte\",\n",
    "    cell_type2=\".\",\n",
    "    means=means_CMEC,\n",
    "    pvals=pvals_CMEC,\n",
    "    celltype_key=\"cell_type\",\n",
    "    genes=[\"NRG\"],\n",
    "    figsize=(12, 5),\n",
    "    title=\"NRG related signaling interactions\"\n",
    ")\n",
    "dot_path2 = r\"C:\\Users\\juanp\\Desktop\\CellphoneDB visualization CM Other\\nrg_dotplot_CMEC.png\"\n",
    "p_NRG.save(dot_path2, dpi = 300)\n",
    "p_NRG"
   ]
  },
  {
   "cell_type": "code",
   "execution_count": null,
   "id": "29",
   "metadata": {},
   "outputs": [],
   "source": [
    "p_EDN1 = kpy.plot_cpdb(\n",
    "    adata=adata_CMEC,\n",
    "    cell_type1=\"Cardiomyocyte\",\n",
    "    cell_type2=\".\",\n",
    "    means=means_CMEC,\n",
    "    pvals=pvals_CMEC,\n",
    "    celltype_key=\"cell_type\",\n",
    "    genes=[\"EDN1\"],\n",
    "    figsize=(12, 5),\n",
    "    title=\"EDN1 related signaling interactions\"\n",
    ")\n",
    "dot_path3 = r\"C:\\Users\\juanp\\Desktop\\CellphoneDB visualization CM Other\\edn1_dotplot_CMEC.png\"\n",
    "p_EDN1.save(dot_path3, dpi = 300)\n",
    "p_EDN1"
   ]
  },
  {
   "cell_type": "code",
   "execution_count": null,
   "id": "30",
   "metadata": {},
   "outputs": [],
   "source": [
    "p_FGF = kpy.plot_cpdb(\n",
    "    adata=adata_CMEC,\n",
    "    cell_type1=\"Cardiomyocyte\",\n",
    "    cell_type2=\".\",\n",
    "    means=means_CMEC,\n",
    "    pvals=pvals_CMEC,\n",
    "    celltype_key=\"cell_type\",\n",
    "    genes=[\"FGF\"],\n",
    "    figsize=(12, 5),\n",
    "    title=\"FGF related signaling interactions\"\n",
    ")\n",
    "dot_path4 = r\"C:\\Users\\juanp\\Desktop\\CellphoneDB visualization CM Other\\fgf_dotplot_CMEC.png\"\n",
    "p_FGF.save(dot_path4, dpi = 300)\n",
    "p_FGF"
   ]
  },
  {
   "cell_type": "code",
   "execution_count": null,
   "id": "31",
   "metadata": {},
   "outputs": [],
   "source": [
    "p_COL = kpy.plot_cpdb(\n",
    "    adata=adata_CMEC,\n",
    "    cell_type1=\"Cardiomyocyte\",\n",
    "    cell_type2=\".\",\n",
    "    means=means_CMEC,\n",
    "    pvals=pvals_CMEC,\n",
    "    celltype_key=\"cell_type\",\n",
    "    genes=[\"COL\"],\n",
    "    figsize=(12, 5),\n",
    "    title=\"COL related signaling interactions\"\n",
    ")\n",
    "dot_path5 = r\"C:\\Users\\juanp\\Desktop\\CellphoneDB visualization\\col_dotplot_CMEC.png\"\n",
    "p_COL.save(dot_path5, dpi = 300)\n",
    "p_COL"
   ]
  },
  {
   "cell_type": "code",
   "execution_count": null,
   "id": "32",
   "metadata": {},
   "outputs": [],
   "source": [
    "p_FN = kpy.plot_cpdb(\n",
    "    adata=adata_CMEC,\n",
    "    cell_type1=\"Cardiomyocyte\",\n",
    "    cell_type2=\".\",\n",
    "    means=means_CMEC,\n",
    "    pvals=pvals_CMEC,\n",
    "    celltype_key=\"cell_type\",\n",
    "    genes=[\"FN\"],\n",
    "    figsize=(12, 5),\n",
    "    title=\"FN related signaling interactions\"\n",
    ")\n",
    "dot_path6 = r\"C:\\Users\\juanp\\Desktop\\CellphoneDB visualization CM Other\\fn_dotplot_CMEC.png\"\n",
    "p_FN.save(dot_path6, dpi = 300)\n",
    "p_FN"
   ]
  },
  {
   "cell_type": "code",
   "execution_count": null,
   "id": "33",
   "metadata": {},
   "outputs": [],
   "source": [
    "p_FN = kpy.plot_cpdb(\n",
    "    adata=adata_CMEC,\n",
    "    cell_type1=\"Cardiomyocyte\",\n",
    "    cell_type2=\".\",\n",
    "    means=means_CMEC,\n",
    "    pvals=pvals_CMEC,\n",
    "    celltype_key=\"cell_type\",\n",
    "    genes=[\"FN\"],\n",
    "    figsize=(12, 5),\n",
    "    title=\"FN related signaling interactions\"\n",
    ")\n",
    "dot_path6 = r\"C:\\Users\\juanp\\Desktop\\CellphoneDB visualization\\fn_dotplot_CMEC.png\"\n",
    "p_FN.save(dot_path6, dpi = 300)\n",
    "p_FN"
   ]
  },
  {
   "cell_type": "markdown",
   "id": "34",
   "metadata": {},
   "source": [
    "### Chord diagrams"
   ]
  },
  {
   "cell_type": "code",
   "execution_count": null,
   "id": "35",
   "metadata": {},
   "outputs": [],
   "source": [
    "pc_VEGF = kpy.plot_cpdb_chord(\n",
    "    adata=adata_CMEC,\n",
    "    cell_type1=\"Cardiomyocyte\",\n",
    "    cell_type2=\".\",\n",
    "    means=means_CMEC,\n",
    "    pvals=pvals_CMEC,\n",
    "    deconvoluted=decon_CMEC,\n",
    "    celltype_key=\"cell_type\",\n",
    "    interaction=[\"VEGF\"],\n",
    "    link_kwargs={\"direction\": 1, \"allow_twist\": True, \"r1\": 95, \"r2\": 90},\n",
    "    sector_text_kwargs={\"color\": \"black\", \"size\": 12, \"r\": 105, \"adjust_rotation\": True},\n",
    "    legend_kwargs={\"loc\": \"center\", \"bbox_to_anchor\": (1, 1), \"fontsize\": 8},\n",
    "    link_offset=1,\n",
    ")\n",
    "chord_path1 = r\"C:\\Users\\juanp\\Desktop\\CellphoneDB visualization CM Other\\VEGF_chord_CMEC.png\"\n",
    "pc_VEGF.savefig(chord_path1, dpi = 300)\n",
    "pc_VEGF"
   ]
  },
  {
   "cell_type": "code",
   "execution_count": null,
   "id": "36",
   "metadata": {},
   "outputs": [],
   "source": [
    "pc_NRG = kpy.plot_cpdb_chord(\n",
    "    adata=adata_CMEC,\n",
    "    cell_type1=\"Cardiomyocyte\",\n",
    "    cell_type2=\".\",\n",
    "    means=means_CMEC,\n",
    "    pvals=pvals_CMEC,\n",
    "    deconvoluted=decon_CMEC,\n",
    "    celltype_key=\"cell_type\",\n",
    "    interaction=[\"NRG\"],\n",
    "    link_kwargs={\"direction\": 1, \"allow_twist\": True, \"r1\": 95, \"r2\": 90},\n",
    "    sector_text_kwargs={\"color\": \"black\", \"size\": 12, \"r\": 105, \"adjust_rotation\": True},\n",
    "    legend_kwargs={\"loc\": \"center\", \"bbox_to_anchor\": (1, 1), \"fontsize\": 8},\n",
    "    link_offset=1,\n",
    ")\n",
    "chord_path2 = r\"C:\\Users\\juanp\\Desktop\\CellphoneDB visualization CM Other\\NRG_chord_CMEC.png\"\n",
    "pc_NRG.savefig(chord_path2, dpi = 300)\n",
    "pc_NRG"
   ]
  },
  {
   "cell_type": "code",
   "execution_count": null,
   "id": "37",
   "metadata": {},
   "outputs": [],
   "source": [
    "pc_EDN = kpy.plot_cpdb_chord(\n",
    "    adata=adata_CMEC,\n",
    "    cell_type1=\"Cardiomyocyte\",\n",
    "    cell_type2=\".\",\n",
    "    means=means_CMEC,\n",
    "    pvals=pvals_CMEC,\n",
    "    deconvoluted=decon_CMEC,\n",
    "    celltype_key=\"cell_type\",\n",
    "    interaction=[\"EDN\"],\n",
    "    link_kwargs={\"direction\": 1, \"allow_twist\": True, \"r1\": 95, \"r2\": 90},\n",
    "    sector_text_kwargs={\"color\": \"black\", \"size\": 12, \"r\": 105, \"adjust_rotation\": True},\n",
    "    legend_kwargs={\"loc\": \"center\", \"bbox_to_anchor\": (1, 1), \"fontsize\": 8},\n",
    "    link_offset=1,\n",
    ")\n",
    "chord_path3 = r\"C:\\Users\\juanp\\Desktop\\CellphoneDB visualization CM Other\\EDN_chord_CMEC.png\"\n",
    "pc_EDN.savefig(chord_path3, dpi = 300)\n",
    "pc_EDN"
   ]
  },
  {
   "cell_type": "code",
   "execution_count": null,
   "id": "38",
   "metadata": {},
   "outputs": [],
   "source": [
    "pc_COL = kpy.plot_cpdb_chord(\n",
    "    adata=adata_CMEC,\n",
    "    cell_type1=\"Cardiomyocyte\",\n",
    "    cell_type2=\".\",\n",
    "    means=means_CMEC,\n",
    "    pvals=pvals_CMEC,\n",
    "    deconvoluted=decon_CMEC,\n",
    "    celltype_key=\"cell_type\",\n",
    "    interaction=[\"COL\"],\n",
    "    link_kwargs={\"direction\": 1, \"allow_twist\": True, \"r1\": 95, \"r2\": 90},\n",
    "    sector_text_kwargs={\"color\": \"black\", \"size\": 12, \"r\": 105, \"adjust_rotation\": True},\n",
    "    legend_kwargs={\"loc\": \"center\", \"bbox_to_anchor\": (1, 1), \"fontsize\": 8},\n",
    "    link_offset=1,\n",
    ")\n",
    "chord_path4 = r\"C:\\Users\\juanp\\Desktop\\CellphoneDB visualization CM Other\\COL_chord_CMEC.png\"\n",
    "pc_COL.savefig(chord_path4, dpi = 300)\n",
    "pc_COL"
   ]
  },
  {
   "cell_type": "code",
   "execution_count": null,
   "id": "39",
   "metadata": {},
   "outputs": [],
   "source": [
    "import scanpy as sc\n",
    "\n",
    "sc.pl.violin(adata_CMEC, [\"n_genes\"], groupby=\"cell_type\", rotation=90)"
   ]
  },
  {
   "cell_type": "markdown",
   "id": "40",
   "metadata": {},
   "source": [
    "### Most important classifications: \n",
    "I am looking at the significant means file, the ec to cm column. Categorize by classification. Sum the mean expression of all interacting pairs in that category. \n"
   ]
  },
  {
   "cell_type": "code",
   "execution_count": null,
   "id": "41",
   "metadata": {},
   "outputs": [],
   "source": [
    "# Filter rows that have significant EC->CM interaction\n",
    "significant_other_cm_CM = significant_means_CM[significant_means_CM[other_cm_col].notna()]\n",
    "significant_other_cm_CMEC = significant_means_CMEC[significant_means_CMEC[other_cm_col].notna()]\n",
    "\n",
    "# Filter rows that have significant CM->EC interaction\n",
    "significant_cm_other_CM = significant_means_CM[significant_means_CM[cm_other_col].notna()]\n",
    "significant_cm_other_CMEC = significant_means_CMEC[significant_means_CMEC[cm_other_col].notna()]"
   ]
  },
  {
   "cell_type": "code",
   "execution_count": null,
   "id": "42",
   "metadata": {},
   "outputs": [],
   "source": [
    "# Group by classification and sum the expression values\n",
    "#EC to CM - cm\n",
    "cumulative_expression_other_CM_CM = (\n",
    "    significant_other_cm_CM\n",
    "    .groupby(\"classification\")[other_cm_col]\n",
    "    .sum()\n",
    "    .sort_values(ascending=False)\n",
    "    .reset_index()\n",
    ")\n",
    "#EC to CM - cmec\n",
    "cumulative_expression_other_CM_CMEC = (\n",
    "    significant_other_cm_CMEC\n",
    "    .groupby(\"classification\")[other_cm_col]\n",
    "    .sum()\n",
    "    .sort_values(ascending=False)\n",
    "    .reset_index()\n",
    ")\n",
    "#CM to EC - cm\n",
    "cumulative_expression_CM_other_CM = (\n",
    "    significant_cm_other_CM\n",
    "    .groupby(\"classification\")[cm_other_col]\n",
    "    .sum()\n",
    "    .sort_values(ascending=False)\n",
    "    .reset_index()\n",
    ")\n",
    "#CM to EC - cmec\n",
    "cumulative_expression_CM_other_CMEC = (\n",
    "    significant_cm_other_CMEC\n",
    "    .groupby(\"classification\")[cm_other_col]\n",
    "    .sum()\n",
    "    .sort_values(ascending=False)\n",
    "    .reset_index()\n",
    ")\n"
   ]
  },
  {
   "cell_type": "code",
   "execution_count": null,
   "id": "43",
   "metadata": {},
   "outputs": [],
   "source": [
    "# Show top classifications\n",
    "cumulative_expression_other_CM_CM.head(15)"
   ]
  },
  {
   "cell_type": "code",
   "execution_count": null,
   "id": "44",
   "metadata": {},
   "outputs": [],
   "source": [
    "cumulative_expression_other_CM_CMEC.head(15)"
   ]
  },
  {
   "cell_type": "code",
   "execution_count": null,
   "id": "45",
   "metadata": {},
   "outputs": [],
   "source": [
    "cumulative_expression_CM_other_CM.head(15)"
   ]
  },
  {
   "cell_type": "code",
   "execution_count": null,
   "id": "46",
   "metadata": {},
   "outputs": [],
   "source": [
    "cumulative_expression_CM_other_CMEC.head(15)"
   ]
  }
 ],
 "metadata": {
  "kernelspec": {
   "display_name": "cpdb",
   "language": "python",
   "name": "cpdb"
  },
  "language_info": {
   "codemirror_mode": {
    "name": "ipython",
    "version": 3
   },
   "file_extension": ".py",
   "mimetype": "text/x-python",
   "name": "python",
   "nbconvert_exporter": "python",
   "pygments_lexer": "ipython3",
   "version": "3.11.11"
  }
 },
 "nbformat": 4,
 "nbformat_minor": 5
}
